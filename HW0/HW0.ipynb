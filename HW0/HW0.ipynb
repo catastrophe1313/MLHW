{
 "cells": [
  {
   "cell_type": "code",
   "execution_count": 26,
   "metadata": {},
   "outputs": [],
   "source": [
    "import pandas as pd\n",
    "import matplotlib.pyplot as plt\n",
    "import numpy as np"
   ]
  },
  {
   "cell_type": "markdown",
   "metadata": {},
   "source": [
    "## P1"
   ]
  },
  {
   "cell_type": "code",
   "execution_count": 3,
   "metadata": {},
   "outputs": [
    {
     "data": {
      "text/html": [
       "<div>\n",
       "<style scoped>\n",
       "    .dataframe tbody tr th:only-of-type {\n",
       "        vertical-align: middle;\n",
       "    }\n",
       "\n",
       "    .dataframe tbody tr th {\n",
       "        vertical-align: top;\n",
       "    }\n",
       "\n",
       "    .dataframe thead th {\n",
       "        text-align: right;\n",
       "    }\n",
       "</style>\n",
       "<table border=\"1\" class=\"dataframe\">\n",
       "  <thead>\n",
       "    <tr style=\"text-align: right;\">\n",
       "      <th></th>\n",
       "      <th>x1</th>\n",
       "      <th>x2</th>\n",
       "      <th>y</th>\n",
       "    </tr>\n",
       "  </thead>\n",
       "  <tbody>\n",
       "    <tr>\n",
       "      <th>0</th>\n",
       "      <td>-0.473137</td>\n",
       "      <td>-1.633617</td>\n",
       "      <td>-0.860691</td>\n",
       "    </tr>\n",
       "    <tr>\n",
       "      <th>1</th>\n",
       "      <td>-1.069586</td>\n",
       "      <td>-0.034465</td>\n",
       "      <td>0.002398</td>\n",
       "    </tr>\n",
       "    <tr>\n",
       "      <th>2</th>\n",
       "      <td>1.839980</td>\n",
       "      <td>-0.146891</td>\n",
       "      <td>-0.417169</td>\n",
       "    </tr>\n",
       "    <tr>\n",
       "      <th>3</th>\n",
       "      <td>0.656758</td>\n",
       "      <td>-1.329676</td>\n",
       "      <td>-2.202951</td>\n",
       "    </tr>\n",
       "    <tr>\n",
       "      <th>4</th>\n",
       "      <td>0.020591</td>\n",
       "      <td>-1.286592</td>\n",
       "      <td>-1.313084</td>\n",
       "    </tr>\n",
       "    <tr>\n",
       "      <th>...</th>\n",
       "      <td>...</td>\n",
       "      <td>...</td>\n",
       "      <td>...</td>\n",
       "    </tr>\n",
       "    <tr>\n",
       "      <th>95</th>\n",
       "      <td>0.507456</td>\n",
       "      <td>-0.121615</td>\n",
       "      <td>-0.183330</td>\n",
       "    </tr>\n",
       "    <tr>\n",
       "      <th>96</th>\n",
       "      <td>0.368856</td>\n",
       "      <td>-1.067686</td>\n",
       "      <td>-1.461507</td>\n",
       "    </tr>\n",
       "    <tr>\n",
       "      <th>97</th>\n",
       "      <td>-0.519602</td>\n",
       "      <td>0.391609</td>\n",
       "      <td>0.579737</td>\n",
       "    </tr>\n",
       "    <tr>\n",
       "      <th>98</th>\n",
       "      <td>0.818727</td>\n",
       "      <td>0.096359</td>\n",
       "      <td>0.271610</td>\n",
       "    </tr>\n",
       "    <tr>\n",
       "      <th>99</th>\n",
       "      <td>-0.272681</td>\n",
       "      <td>0.080744</td>\n",
       "      <td>0.139471</td>\n",
       "    </tr>\n",
       "  </tbody>\n",
       "</table>\n",
       "<p>100 rows × 3 columns</p>\n",
       "</div>"
      ],
      "text/plain": [
       "          x1        x2         y\n",
       "0  -0.473137 -1.633617 -0.860691\n",
       "1  -1.069586 -0.034465  0.002398\n",
       "2   1.839980 -0.146891 -0.417169\n",
       "3   0.656758 -1.329676 -2.202951\n",
       "4   0.020591 -1.286592 -1.313084\n",
       "..       ...       ...       ...\n",
       "95  0.507456 -0.121615 -0.183330\n",
       "96  0.368856 -1.067686 -1.461507\n",
       "97 -0.519602  0.391609  0.579737\n",
       "98  0.818727  0.096359  0.271610\n",
       "99 -0.272681  0.080744  0.139471\n",
       "\n",
       "[100 rows x 3 columns]"
      ]
     },
     "execution_count": 3,
     "metadata": {},
     "output_type": "execute_result"
    }
   ],
   "source": [
    "data = pd.read_csv('hw0_p1.csv')\n",
    "data"
   ]
  },
  {
   "cell_type": "code",
   "execution_count": 16,
   "metadata": {
    "scrolled": true
   },
   "outputs": [
    {
     "data": {
      "image/png": "[encoded data removed]",
      "text/plain": [
       "<Figure size 432x288 with 1 Axes>"
      ]
     },
     "metadata": {
      "needs_background": "light"
     },
     "output_type": "display_data"
    }
   ],
   "source": [
    "x1 = data['x1']\n",
    "x2 = data['x2']\n",
    "y = data['y']\n",
    "plt.scatter(x1, x2)\n",
    "plt.show()"
   ]
  },
  {
   "cell_type": "code",
   "execution_count": 17,
   "metadata": {},
   "outputs": [
    {
     "data": {
      "image/png": "[encoded data removed]",
      "text/plain": [
       "<Figure size 432x288 with 1 Axes>"
      ]
     },
     "metadata": {
      "needs_background": "light"
     },
     "output_type": "display_data"
    }
   ],
   "source": [
    "plt.scatter(x1, y)\n",
    "plt.show()"
   ]
  },
  {
   "cell_type": "code",
   "execution_count": 18,
   "metadata": {},
   "outputs": [
    {
     "data": {
      "image/png": "[encoded data removed]",
      "text/plain": [
       "<Figure size 432x288 with 1 Axes>"
      ]
     },
     "metadata": {
      "needs_background": "light"
     },
     "output_type": "display_data"
    }
   ],
   "source": [
    "plt.scatter(x2, y)\n",
    "plt.show()"
   ]
  },
  {
   "cell_type": "markdown",
   "metadata": {},
   "source": [
    "## P2"
   ]
  },
  {
   "cell_type": "code",
   "execution_count": 27,
   "metadata": {},
   "outputs": [
    {
     "data": {
      "text/html": [
       "<div>\n",
       "<style scoped>\n",
       "    .dataframe tbody tr th:only-of-type {\n",
       "        vertical-align: middle;\n",
       "    }\n",
       "\n",
       "    .dataframe tbody tr th {\n",
       "        vertical-align: top;\n",
       "    }\n",
       "\n",
       "    .dataframe thead th {\n",
       "        text-align: right;\n",
       "    }\n",
       "</style>\n",
       "<table border=\"1\" class=\"dataframe\">\n",
       "  <thead>\n",
       "    <tr style=\"text-align: right;\">\n",
       "      <th></th>\n",
       "      <th>Date</th>\n",
       "      <th>Open</th>\n",
       "      <th>High</th>\n",
       "      <th>Low</th>\n",
       "      <th>Close</th>\n",
       "      <th>Adj Close</th>\n",
       "      <th>Volume</th>\n",
       "      <th>Daliy Return</th>\n",
       "    </tr>\n",
       "  </thead>\n",
       "  <tbody>\n",
       "    <tr>\n",
       "      <th>0</th>\n",
       "      <td>2015/9/17</td>\n",
       "      <td>28.915001</td>\n",
       "      <td>29.122499</td>\n",
       "      <td>28.430000</td>\n",
       "      <td>28.480000</td>\n",
       "      <td>26.318771</td>\n",
       "      <td>256450400</td>\n",
       "      <td>1.000000</td>\n",
       "    </tr>\n",
       "    <tr>\n",
       "      <th>1</th>\n",
       "      <td>2015/9/18</td>\n",
       "      <td>28.052500</td>\n",
       "      <td>28.575001</td>\n",
       "      <td>27.967501</td>\n",
       "      <td>28.362499</td>\n",
       "      <td>26.210186</td>\n",
       "      <td>297141200</td>\n",
       "      <td>0.995874</td>\n",
       "    </tr>\n",
       "    <tr>\n",
       "      <th>2</th>\n",
       "      <td>2015/9/21</td>\n",
       "      <td>28.417500</td>\n",
       "      <td>28.842501</td>\n",
       "      <td>28.415001</td>\n",
       "      <td>28.802500</td>\n",
       "      <td>26.616798</td>\n",
       "      <td>200888000</td>\n",
       "      <td>1.015513</td>\n",
       "    </tr>\n",
       "    <tr>\n",
       "      <th>3</th>\n",
       "      <td>2015/9/22</td>\n",
       "      <td>28.344999</td>\n",
       "      <td>28.545000</td>\n",
       "      <td>28.129999</td>\n",
       "      <td>28.350000</td>\n",
       "      <td>26.198639</td>\n",
       "      <td>201384800</td>\n",
       "      <td>0.984290</td>\n",
       "    </tr>\n",
       "    <tr>\n",
       "      <th>4</th>\n",
       "      <td>2015/9/23</td>\n",
       "      <td>28.407499</td>\n",
       "      <td>28.680000</td>\n",
       "      <td>28.325001</td>\n",
       "      <td>28.580000</td>\n",
       "      <td>26.411180</td>\n",
       "      <td>143026800</td>\n",
       "      <td>1.008113</td>\n",
       "    </tr>\n",
       "    <tr>\n",
       "      <th>...</th>\n",
       "      <td>...</td>\n",
       "      <td>...</td>\n",
       "      <td>...</td>\n",
       "      <td>...</td>\n",
       "      <td>...</td>\n",
       "      <td>...</td>\n",
       "      <td>...</td>\n",
       "      <td>...</td>\n",
       "    </tr>\n",
       "    <tr>\n",
       "      <th>1254</th>\n",
       "      <td>2020/9/10</td>\n",
       "      <td>120.360001</td>\n",
       "      <td>120.500000</td>\n",
       "      <td>112.500000</td>\n",
       "      <td>113.489998</td>\n",
       "      <td>113.489998</td>\n",
       "      <td>182274400</td>\n",
       "      <td>0.967354</td>\n",
       "    </tr>\n",
       "    <tr>\n",
       "      <th>1255</th>\n",
       "      <td>2020/9/11</td>\n",
       "      <td>114.570000</td>\n",
       "      <td>115.230003</td>\n",
       "      <td>110.000000</td>\n",
       "      <td>112.000000</td>\n",
       "      <td>112.000000</td>\n",
       "      <td>180860300</td>\n",
       "      <td>0.986871</td>\n",
       "    </tr>\n",
       "    <tr>\n",
       "      <th>1256</th>\n",
       "      <td>2020/9/14</td>\n",
       "      <td>114.720001</td>\n",
       "      <td>115.930000</td>\n",
       "      <td>112.800003</td>\n",
       "      <td>115.360001</td>\n",
       "      <td>115.360001</td>\n",
       "      <td>140150100</td>\n",
       "      <td>1.030000</td>\n",
       "    </tr>\n",
       "    <tr>\n",
       "      <th>1257</th>\n",
       "      <td>2020/9/15</td>\n",
       "      <td>118.330002</td>\n",
       "      <td>118.830002</td>\n",
       "      <td>113.610001</td>\n",
       "      <td>115.540001</td>\n",
       "      <td>115.540001</td>\n",
       "      <td>184642000</td>\n",
       "      <td>1.001560</td>\n",
       "    </tr>\n",
       "    <tr>\n",
       "      <th>1258</th>\n",
       "      <td>2020/9/16</td>\n",
       "      <td>115.230003</td>\n",
       "      <td>116.000000</td>\n",
       "      <td>112.040001</td>\n",
       "      <td>112.129997</td>\n",
       "      <td>112.129997</td>\n",
       "      <td>154679000</td>\n",
       "      <td>0.970486</td>\n",
       "    </tr>\n",
       "  </tbody>\n",
       "</table>\n",
       "<p>1259 rows × 8 columns</p>\n",
       "</div>"
      ],
      "text/plain": [
       "           Date        Open        High         Low       Close   Adj Close  \\\n",
       "0     2015/9/17   28.915001   29.122499   28.430000   28.480000   26.318771   \n",
       "1     2015/9/18   28.052500   28.575001   27.967501   28.362499   26.210186   \n",
       "2     2015/9/21   28.417500   28.842501   28.415001   28.802500   26.616798   \n",
       "3     2015/9/22   28.344999   28.545000   28.129999   28.350000   26.198639   \n",
       "4     2015/9/23   28.407499   28.680000   28.325001   28.580000   26.411180   \n",
       "...         ...         ...         ...         ...         ...         ...   \n",
       "1254  2020/9/10  120.360001  120.500000  112.500000  113.489998  113.489998   \n",
       "1255  2020/9/11  114.570000  115.230003  110.000000  112.000000  112.000000   \n",
       "1256  2020/9/14  114.720001  115.930000  112.800003  115.360001  115.360001   \n",
       "1257  2020/9/15  118.330002  118.830002  113.610001  115.540001  115.540001   \n",
       "1258  2020/9/16  115.230003  116.000000  112.040001  112.129997  112.129997   \n",
       "\n",
       "         Volume  Daliy Return  \n",
       "0     256450400      1.000000  \n",
       "1     297141200      0.995874  \n",
       "2     200888000      1.015513  \n",
       "3     201384800      0.984290  \n",
       "4     143026800      1.008113  \n",
       "...         ...           ...  \n",
       "1254  182274400      0.967354  \n",
       "1255  180860300      0.986871  \n",
       "1256  140150100      1.030000  \n",
       "1257  184642000      1.001560  \n",
       "1258  154679000      0.970486  \n",
       "\n",
       "[1259 rows x 8 columns]"
      ]
     },
     "execution_count": 27,
     "metadata": {},
     "output_type": "execute_result"
    }
   ],
   "source": [
    "aa = pd.read_csv('AAPL.csv')\n",
    "aa"
   ]
  },
  {
   "cell_type": "code",
   "execution_count": 22,
   "metadata": {},
   "outputs": [
    {
     "data": {
      "image/png": "[encoded data removed]",
      "text/plain": [
       "<Figure size 432x288 with 1 Axes>"
      ]
     },
     "metadata": {
      "needs_background": "light"
     },
     "output_type": "display_data"
    }
   ],
   "source": [
    "date = aa['Date']\n",
    "close = aa['Close']\n",
    "plt.plot(date, close)\n",
    "plt.show()"
   ]
  },
  {
   "cell_type": "code",
   "execution_count": 33,
   "metadata": {},
   "outputs": [
    {
     "name": "stdout",
     "output_type": "stream",
     "text": [
      "1.001262828448769\n",
      "0.0003468240287781827\n"
     ]
    },
    {
     "data": {
      "text/plain": [
       "count    1259.000000\n",
       "mean        1.001263\n",
       "std         0.018631\n",
       "min         0.871353\n",
       "25%         0.993828\n",
       "50%         1.000941\n",
       "75%         1.009742\n",
       "max         1.119808\n",
       "Name: Daliy Return, dtype: float64"
      ]
     },
     "execution_count": 33,
     "metadata": {},
     "output_type": "execute_result"
    }
   ],
   "source": [
    "DR = aa['Daliy Return']\n",
    "mean = np.mean(DR)\n",
    "var = np.var(DR)\n",
    "print(mean)\n",
    "print(var)\n",
    "DR.describe()"
   ]
  },
  {
   "cell_type": "markdown",
   "metadata": {},
   "source": [
    "## P3"
   ]
  },
  {
   "cell_type": "code",
   "execution_count": 34,
   "metadata": {},
   "outputs": [],
   "source": [
    "choco_to_orange = np.array([[0.7, 0], [0.3, 1]])\n",
    "orange_to_choco = np.array([[1, 0.2], [0, 0.8]])\n",
    "one_cycle = np.dot(orange_to_choco, choco_to_orange)\n",
    "\n",
    "state0 = np.array([1, 1])\n",
    "state1 = np.dot(one_cycle, state0)\n",
    "for i in range(1,101):\n",
    "    state = np.dot(one_cycle, state0)"
   ]
  },
  {
   "cell_type": "code",
   "execution_count": null,
   "metadata": {},
   "outputs": [],
   "source": []
  }
 ],
 "metadata": {
  "kernelspec": {
   "display_name": "Python 3",
   "language": "python",
   "name": "python3"
  },
  "language_info": {
   "codemirror_mode": {
    "name": "ipython",
    "version": 3
   },
   "file_extension": ".py",
   "mimetype": "text/x-python",
   "name": "python",
   "nbconvert_exporter": "python",
   "pygments_lexer": "ipython3",
   "version": "3.7.9"
  }
 },
 "nbformat": 4,
 "nbformat_minor": 4
}
