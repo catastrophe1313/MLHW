{
 "cells": [
  {
   "cell_type": "markdown",
   "metadata": {},
   "source": [
    "## <center>Homework 2</center>"
   ]
  },
  {
   "cell_type": "code",
   "execution_count": 61,
   "metadata": {},
   "outputs": [],
   "source": [
    "# Import packages\n",
    "import numpy as np\n",
    "import pandas as pd\n",
    "from sklearn.metrics import accuracy_score, f1_score\n",
    "from sklearn.feature_extraction.text import TfidfVectorizer\n",
    "from sklearn.naive_bayes import MultinomialNB\n",
    "from sklearn.ensemble import RandomForestClassifier, GradientBoostingClassifier\n",
    "from sklearn.svm import SVC"
   ]
  },
  {
   "cell_type": "code",
   "execution_count": 37,
   "metadata": {},
   "outputs": [],
   "source": [
    "# Load dataset\n",
    "def load_data():\n",
    "    trainset = pd.read_csv('./data/Constraint_Train.csv')\n",
    "    valset = pd.read_csv('./data/Constraint_Val.csv')\n",
    "    testset = pd.read_csv('./data/english_test_with_labels.csv')\n",
    "    return trainset, valset, testset\n",
    "\n",
    "# Split dataset\n",
    "def split_data(data):\n",
    "    x = data['tweet']\n",
    "    y = data['label']\n",
    "    return x, y\n",
    "\n",
    "# Get performance\n",
    "def get_perform(pre, real):\n",
    "    acc = accuracy_score(real, pre)\n",
    "    f1 = f1_score(real, pre, pos_label=\"real\")\n",
    "    print('accuracy_score:', acc)\n",
    "    print('f1_score:', f1)"
   ]
  },
  {
   "cell_type": "code",
   "execution_count": 60,
   "metadata": {},
   "outputs": [],
   "source": [
    "# Load and Split data\n",
    "trainset, valset, testset = load_data()\n",
    "trainX, trainY = split_data(trainset)\n",
    "valX, valY = split_data(valset)\n",
    "testX, testY = split_data(testset)\n",
    "\n",
    "# Process data\n",
    "tv = TfidfVectorizer()\n",
    "trainX = tv.fit_transform(trainX)\n",
    "valX = tv.transform(valX)\n",
    "testX = tv.transform(testX)"
   ]
  },
  {
   "cell_type": "markdown",
   "metadata": {},
   "source": [
    "### Problem 1"
   ]
  },
  {
   "cell_type": "code",
   "execution_count": 40,
   "metadata": {},
   "outputs": [],
   "source": [
    "def NB(trainX, trainY, testX, testY):\n",
    "    #train model\n",
    "    model = MultinomialNB(alpha=0.05)\n",
    "    model.fit(trainX, trainY)\n",
    "\n",
    "    #predict and get performance\n",
    "    pre = model.predict(testX)\n",
    "    get_perform(testY, pre)"
   ]
  },
  {
   "cell_type": "code",
   "execution_count": 41,
   "metadata": {},
   "outputs": [
    {
     "name": "stdout",
     "output_type": "stream",
     "text": [
      "accuracy_score: 0.9214953271028037\n",
      "f1_score: 0.9257950530035335\n"
     ]
    }
   ],
   "source": [
    "NB(trainX, trainY, testX, testY)"
   ]
  },
  {
   "cell_type": "markdown",
   "metadata": {},
   "source": [
    "alpha: <br>\n",
    "final setting: 0.05, test range: [0.01, 1] "
   ]
  },
  {
   "cell_type": "markdown",
   "metadata": {},
   "source": [
    "### Problem 2a"
   ]
  },
  {
   "cell_type": "code",
   "execution_count": 48,
   "metadata": {},
   "outputs": [],
   "source": [
    "def RF(trainX, trainY, testX, testY):\n",
    "    #train model\n",
    "    model = RandomForestClassifier(n_estimators=150, max_depth=10, min_samples_leaf=1, random_state=0)\n",
    "    model.fit(trainX, trainY)\n",
    "\n",
    "    #predict and get performance\n",
    "    pre = model.predict(testX)\n",
    "    get_perform(testY, pre)"
   ]
  },
  {
   "cell_type": "code",
   "execution_count": 49,
   "metadata": {},
   "outputs": [
    {
     "name": "stdout",
     "output_type": "stream",
     "text": [
      "accuracy_score: 0.8808411214953271\n",
      "f1_score: 0.8845631507469444\n"
     ]
    }
   ],
   "source": [
    "RF(trainX, trainY, testX, testY)"
   ]
  },
  {
   "cell_type": "markdown",
   "metadata": {},
   "source": [
    "number of trees:<br>\n",
    "final setting: 150, test range: [10, 200]<br>\n",
    "min_samples_leaf:<br>\n",
    "final setting: 1, test range: [1, 10]\n"
   ]
  },
  {
   "cell_type": "markdown",
   "metadata": {},
   "source": [
    "### Problem 2b"
   ]
  },
  {
   "cell_type": "code",
   "execution_count": 58,
   "metadata": {},
   "outputs": [],
   "source": [
    "def GBDT(trainX, trainY, testX, testY):\n",
    "    #train model\n",
    "    model = GradientBoostingClassifier(n_estimators=250, learning_rate=0.6, max_depth=10, min_samples_leaf=3, random_state=0)\n",
    "    model.fit(trainX, trainY)\n",
    "\n",
    "    #predict and get performance\n",
    "    pre = model.predict(testX)\n",
    "    get_perform(testY, pre)"
   ]
  },
  {
   "cell_type": "code",
   "execution_count": 59,
   "metadata": {},
   "outputs": [
    {
     "name": "stdout",
     "output_type": "stream",
     "text": [
      "accuracy_score: 0.935981308411215\n",
      "f1_score: 0.9391921881935198\n"
     ]
    }
   ],
   "source": [
    "GBDT(trainX, trainY, testX, testY)"
   ]
  },
  {
   "cell_type": "markdown",
   "metadata": {},
   "source": [
    "number of trees:<br>\n",
    "final setting: 250, test range: [10, 300]<br>\n",
    "learning rate:<br>\n",
    "final setting: 0.6, test range: [0.01, 1]<br>\n",
    "min_samples_leaf:<br>\n",
    "final setting: 3, test range: [1, 10]<br>\n"
   ]
  },
  {
   "cell_type": "markdown",
   "metadata": {},
   "source": [
    "### Problem 3"
   ]
  },
  {
   "cell_type": "code",
   "execution_count": 68,
   "metadata": {},
   "outputs": [],
   "source": [
    "\n",
    "def SVM(trainX, trainY, testX, testY):\n",
    "    #train model\n",
    "    model = SVC(C=2, kernel='linear')\n",
    "    model.fit(trainX, trainY)\n",
    "\n",
    "    #predict and get performance\n",
    "    pre = model.predict(testX)\n",
    "    get_perform(testY, pre)"
   ]
  },
  {
   "cell_type": "code",
   "execution_count": 69,
   "metadata": {},
   "outputs": [
    {
     "name": "stdout",
     "output_type": "stream",
     "text": [
      "accuracy_score: 0.9425233644859813\n",
      "f1_score: 0.9458388375165127\n"
     ]
    }
   ],
   "source": [
    "SVM(trainX, trainY, testX, testY)"
   ]
  },
  {
   "cell_type": "markdown",
   "metadata": {},
   "source": [
    "kernel:<br>\n",
    "final setting: 'linear', test range: ['linear', 'poly', 'sigmoid']<br>\n",
    "C:<br>\n",
    "final setting: 2, test range: [0.01, 10]<br>"
   ]
  }
 ],
 "metadata": {
  "kernelspec": {
   "display_name": "Python 3.7.9 ('tf-gpu')",
   "language": "python",
   "name": "python3"
  },
  "language_info": {
   "codemirror_mode": {
    "name": "ipython",
    "version": 3
   },
   "file_extension": ".py",
   "mimetype": "text/x-python",
   "name": "python",
   "nbconvert_exporter": "python",
   "pygments_lexer": "ipython3",
   "version": "3.7.9"
  },
  "orig_nbformat": 4,
  "vscode": {
   "interpreter": {
    "hash": "3e12ac12a945f382e98440b0c94bbcb50fa5b9249500f0365ebc1c5d407b008b"
   }
  }
 },
 "nbformat": 4,
 "nbformat_minor": 2
}
